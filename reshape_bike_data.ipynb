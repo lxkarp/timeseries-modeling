{
 "cells": [
  {
   "cell_type": "code",
   "execution_count": 76,
   "id": "f5c8236c-b06e-4e3f-9530-feda0861a4d9",
   "metadata": {},
   "outputs": [
    {
     "name": "stdout",
     "output_type": "stream",
     "text": [
      "           id                                          timestamp  \\\n",
      "0      casual  [2011-01-01 00:00:00, 2011-01-02 00:00:00, 201...   \n",
      "1  registered  [2011-01-01 00:00:00, 2011-01-02 00:00:00, 201...   \n",
      "\n",
      "                                              target  \n",
      "0  [331, 131, 120, 108, 82, 88, 148, 68, 54, 41, ...  \n",
      "1  [654, 670, 1229, 1454, 1518, 1518, 1362, 891, ...  \n"
     ]
    }
   ],
   "source": [
    "import pandas as pd\n",
    "import numpy as np\n",
    "from pprint import pprint\n",
    "\n",
    "df = pd.read_csv(\"/home/ubuntu/.jupyter/bike_day.csv\")\n",
    "# make dteday into a proper datetime\n",
    "df['dteday'] = pd.to_datetime(df['dteday'])\n",
    "# drop everything except timestamp, registered, cnt\n",
    "df = df.drop(columns=[\"season\", \"yr\", \"mnth\", \"holiday\", \"weekday\", \"workingday\", \"weathersit\", \"temp\", \"atemp\", \"hum\", \"windspeed\", \"instant\", \"cnt\"])\n",
    "df = pd.melt(df, id_vars=['dteday'], value_vars=['casual', 'registered']).groupby('variable').agg(list).reset_index()\n",
    "df.rename(columns={\"variable\": \"id\", \"dteday\": \"timestamp\", \"value\": \"target\"}, inplace=True)\n",
    "print(df)"
   ]
  },
  {
   "cell_type": "code",
   "execution_count": 77,
   "id": "dcc744ba-4fa4-41ac-a3a6-e3c8f0fe36e8",
   "metadata": {},
   "outputs": [],
   "source": [
    "# Save the dataframe to a csv file and parquet file\n",
    "df.to_parquet('bike_day.parquet', index=False)"
   ]
  }
 ],
 "metadata": {
  "kernelspec": {
   "display_name": "Python 3 (ipykernel)",
   "language": "python",
   "name": "python3"
  },
  "language_info": {
   "codemirror_mode": {
    "name": "ipython",
    "version": 3
   },
   "file_extension": ".py",
   "mimetype": "text/x-python",
   "name": "python",
   "nbconvert_exporter": "python",
   "pygments_lexer": "ipython3",
   "version": "3.10.12"
  }
 },
 "nbformat": 4,
 "nbformat_minor": 5
}
