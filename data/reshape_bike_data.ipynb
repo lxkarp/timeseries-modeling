{
 "cells": [
  {
   "cell_type": "code",
   "execution_count": 8,
   "id": "f5c8236c-b06e-4e3f-9530-feda0861a4d9",
   "metadata": {},
   "outputs": [
    {
     "name": "stdout",
     "output_type": "stream",
     "text": [
      "           id                                          timestamp  \\\n",
      "0      casual  [2011-01-01 00:00:00, 2011-01-02 00:00:00, 201...   \n",
      "1  registered  [2011-01-01 00:00:00, 2011-01-02 00:00:00, 201...   \n",
      "\n",
      "                                              target  \n",
      "0  [331, 131, 120, 108, 82, 88, 148, 68, 54, 41, ...  \n",
      "1  [654, 670, 1229, 1454, 1518, 1518, 1362, 891, ...  \n"
     ]
    }
   ],
   "source": [
    "import pandas as pd\n",
    "import numpy as np\n",
    "from pprint import pprint\n",
    "import pyarrow as pa\n",
    "import pyarrow.parquet as pq\n",
    "import os\n",
    "\n",
    "df = pd.read_csv(\"./bike_day.csv\")\n",
    "# make dteday into a proper datetime\n",
    "df['dteday'] = pd.to_datetime(df['dteday'])\n",
    "# drop everything except timestamp, registered, cnt\n",
    "df = df.drop(columns=[\"season\", \"yr\", \"mnth\", \"holiday\", \"weekday\", \"workingday\", \"weathersit\", \"temp\", \"atemp\", \"hum\", \"windspeed\", \"instant\", \"cnt\"])\n",
    "df = pd.melt(df, id_vars=['dteday'], value_vars=['casual', 'registered']).groupby('variable').agg(list).reset_index()\n",
    "df.rename(columns={\"variable\": \"id\", \"dteday\": \"timestamp\", \"value\": \"target\"}, inplace=True)\n",
    "print(df)"
   ]
  },
  {
   "cell_type": "code",
   "execution_count": 2,
   "id": "c6f14944",
   "metadata": {},
   "outputs": [
    {
     "name": "stdout",
     "output_type": "stream",
     "text": [
      "Min date: 2011-01-01 00:00:00\n",
      "Max date: 2012-12-31 00:00:00\n"
     ]
    }
   ],
   "source": [
    "min_date = min(min(df['timestamp']))\n",
    "max_date = max(max(df['timestamp']))\n",
    "\n",
    "print(f\"Min date: {min_date}\")\n",
    "print(f\"Max date: {max_date}\")"
   ]
  },
  {
   "cell_type": "code",
   "execution_count": 3,
   "id": "34ffe09f-d82f-410d-a337-a28b61d368c1",
   "metadata": {},
   "outputs": [],
   "source": [
    "def extract_target(df: pd.DataFrame, start: str, end: str):\n",
    "    extract_df_casual = sorted((ts,targ) for ts,targ in zip(df['timestamp'][0], df['target'][0]) if ts >= pd.to_datetime(start) and ts <= pd.to_datetime(end))\n",
    "    extract_df_casual = list(map(list, zip(*extract_df_casual)))\n",
    "\n",
    "    extract_df_registered = sorted((ts,targ) for ts,targ in zip(df['timestamp'][1], df['target'][1]) if ts >= pd.to_datetime(start) and ts <= pd.to_datetime(end))\n",
    "    extract_df_registered = list(map(list, zip(*extract_df_registered)))\n",
    "\n",
    "    output_df = df.copy()\n",
    "    output_df.loc[0, 'timestamp'] = extract_df_casual[0]\n",
    "    output_df.loc[0, 'target'] = extract_df_casual[1]\n",
    "    output_df.loc[1, 'timestamp'] = extract_df_registered[0]\n",
    "    output_df.loc[1, 'target'] = extract_df_registered[1]\n",
    "    \n",
    "\n",
    "    return output_df\n",
    "\n",
    "def adjust_prediction_config(prediction_config, ratio, min_date):\n",
    "    \"\"\"\n",
    "    Adjusts the prediction configuration by modifying the start dates based on a given ratio and minimum date.\n",
    "\n",
    "    Parameters:\n",
    "    prediction_config (dict): A dictionary where keys are identifiers and values are dictionaries with 'start' and 'end' date strings.\n",
    "    ratio (float): A ratio to adjust the interval between start and end dates.\n",
    "    min_date (str or pd.Timestamp): The minimum allowable start date. If the new start date is earlier than this, it will be set to this date.\n",
    "\n",
    "    Returns:\n",
    "    dict: A dictionary with the same keys as prediction_config, but with adjusted 'start' dates.\n",
    "    \"\"\"\n",
    "    adjusted_config = {}\n",
    "    for key, dates in prediction_config.items():\n",
    "        start_date = pd.to_datetime(dates['start'])\n",
    "        end_date = pd.to_datetime(dates['end'])\n",
    "        interval = (end_date - start_date) * ratio\n",
    "        new_start_date = end_date - interval\n",
    "        if new_start_date < min_date:\n",
    "            new_start_date = min_date\n",
    "        adjusted_config[key] = {'start': new_start_date.strftime('%Y-%m-%d'), 'end': dates['end']}\n",
    "    return adjusted_config"
   ]
  },
  {
   "cell_type": "code",
   "execution_count": 10,
   "id": "7e80492e-bf3a-4c7a-88b6-e7d0a837093b",
   "metadata": {},
   "outputs": [],
   "source": [
    "# config = {\n",
    "#     'july': {'start': '2011-04-01',\n",
    "#            'end': '2011-07-31'},\n",
    "#     'week10': {'start':'2011-02-14',\n",
    "#              'end':'2011-03-13'},\n",
    "#     'q4': {'start':'2011-09-01',\n",
    "#          'end':'2012-11-30'}\n",
    "# }\n",
    "\n",
    "prediction_config = {\n",
    "    'july': {'start': '2011-07-01',\n",
    "           'end': '2011-07-31'},\n",
    "    'week10': {'start':'2011-03-07',\n",
    "             'end':'2011-03-13'},\n",
    "    'q4': {'start':'2012-09-01',\n",
    "         'end':'2012-11-30'}\n",
    "}\n",
    "\n",
    "for ratio in [2, 3, 4, 5, 6]:\n",
    "    full_data_config = adjust_prediction_config(prediction_config, ratio, min_date)\n",
    "\n",
    "    for key, dates in full_data_config.items():\n",
    "        os.makedirs(f'ratio_{ratio}/bike_day_{key}/casual', exist_ok=True)\n",
    "        os.makedirs(f'ratio_{ratio}/bike_day_{key}/registered', exist_ok=True)\n",
    "        temp_df = extract_target(df, **dates)\n",
    "        temp_df.to_parquet(f'ratio_{ratio}/bike_day_{key}/bike_day_{key}.parquet', index=False)\n",
    "        \n",
    "        temp_casual = pd.DataFrame(temp_df.loc[0]).T\n",
    "        temp_registered = pd.DataFrame(temp_df.loc[1]).T\n",
    "\n",
    "        pq.write_table(pa.Table.from_pandas(temp_casual), f'ratio_{ratio}/bike_day_{key}/casual/bike_day_{key}.parquet')\n",
    "        pq.write_table(pa.Table.from_pandas(temp_registered), f'ratio_{ratio}/bike_day_{key}/registered/bike_day_{key}.parquet')\n",
    "        \n",
    "# output_df.head()"
   ]
  },
  {
   "cell_type": "code",
   "execution_count": 11,
   "id": "654b3d82",
   "metadata": {},
   "outputs": [
    {
     "name": "stdout",
     "output_type": "stream",
     "text": [
      "{'july': {'end': '2011-07-31', 'start': '2011-07-01'},\n",
      " 'q4': {'end': '2012-11-30', 'start': '2012-09-01'},\n",
      " 'week10': {'end': '2011-03-13', 'start': '2011-03-07'}}\n"
     ]
    }
   ],
   "source": [
    "\n",
    "pprint(prediction_config)"
   ]
  },
  {
   "cell_type": "code",
   "execution_count": null,
   "id": "bcc671d8",
   "metadata": {},
   "outputs": [],
   "source": []
  }
 ],
 "metadata": {
  "kernelspec": {
   "display_name": "Python 3 (ipykernel)",
   "language": "python",
   "name": "python3"
  },
  "language_info": {
   "codemirror_mode": {
    "name": "ipython",
    "version": 3
   },
   "file_extension": ".py",
   "mimetype": "text/x-python",
   "name": "python",
   "nbconvert_exporter": "python",
   "pygments_lexer": "ipython3",
   "version": "3.12.5"
  }
 },
 "nbformat": 4,
 "nbformat_minor": 5
}
